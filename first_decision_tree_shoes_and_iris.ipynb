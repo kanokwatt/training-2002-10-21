{
  "nbformat": 4,
  "nbformat_minor": 0,
  "metadata": {
    "colab": {
      "provenance": [],
      "collapsed_sections": [],
      "authorship_tag": "ABX9TyPLcXSClf7kDRtiq1C90JXa",
      "include_colab_link": true
    },
    "kernelspec": {
      "name": "python3",
      "display_name": "Python 3"
    },
    "language_info": {
      "name": "python"
    }
  },
  "cells": [
    {
      "cell_type": "markdown",
      "metadata": {
        "id": "view-in-github",
        "colab_type": "text"
      },
      "source": [
        "<a href=\"https://colab.research.google.com/github/kanokwatt/training-2022-10-21/blob/main/first_decision_tree_shoes_and_iris.ipynb\" target=\"_parent\"><img src=\"https://colab.research.google.com/assets/colab-badge.svg\" alt=\"Open In Colab\"/></a>"
      ]
    },
    {
      "cell_type": "markdown",
      "source": [
        "# Decision Tree: ต้นไม้สำหรับใช้ในการตัดสินใจ\n",
        "Shoes and Ages\n",
        "\n",
        "เพื่อให้เกิดความง่ายในการทำความเข้าใจ **ผมจะขอเรียก DataFrame ว่าตาราง (Table)**"
      ],
      "metadata": {
        "id": "W6HT9e0wmIxD"
      }
    },
    {
      "cell_type": "code",
      "source": [
        "import pandas as pd\n",
        "\n",
        "# สร้างตารางที่จัดเก็บข้อมูลการซื้อรองเท้าของลูกค้าตามคุณลักษณะ (Features) ประกอบด้วย\n",
        "# เพศ (sex), อายุ (age), ชนิดของรองเท้า (target)\n",
        "data = pd.DataFrame({             \n",
        "    'sex':['male', 'female', 'male', 'male', 'female', 'male','female'],\n",
        "    'age':[30, 17, 25, 18, 19, 35, 30],\n",
        "    'target':['oxfords', 'sneakers', 'oxfords', 'sneakers', 'sneakers', 'oxfords', 'high-heels']\n",
        "})\n",
        "\n",
        "data"
      ],
      "metadata": {
        "id": "qRjDxSbWms26"
      },
      "execution_count": null,
      "outputs": []
    },
    {
      "cell_type": "markdown",
      "source": [
        "## Data Preparation: Label Encoding\n",
        "ทำการแปลงข้อมูล Categorical Data -> ตัวเลข\n",
        "\n",
        "\n",
        "1.   นำเข้า Library sklearn.preprocessing\n",
        "2.   เตรียมเครื่องมือสำหรับแปลงตัวอักษร เป็น ตัวเลข\n",
        "3.   เลือกแปลง คอลัมน์ 'sex' ให้เป็นตัวเลข แล้วเก็บลงที่ data\n",
        "4.   เลือกแปลง คอลัมน์ 'target' เป้าหมาย ให้เป็นตัวเลขแล้วเก็บของที่ data\n",
        "\n"
      ],
      "metadata": {
        "id": "4nDcXnMznflC"
      }
    },
    {
      "cell_type": "code",
      "source": [],
      "metadata": {
        "id": "5MJWLr_6nvp7"
      },
      "execution_count": null,
      "outputs": []
    },
    {
      "cell_type": "markdown",
      "source": [
        "## Dataset \n",
        "**ข้อมูลที่สามารถนำไปใช้ได้กับ Machine Learning ส่วนใหญ่จะต้องถูกเข้ารหัส (Encoding) ให้เป็นตัวเลขก่อน** "
      ],
      "metadata": {
        "id": "rbckRto4mvlp"
      }
    },
    {
      "cell_type": "code",
      "execution_count": null,
      "metadata": {
        "id": "syv1L3_0llsI"
      },
      "outputs": [],
      "source": [
        "import pandas as pd\n",
        "\n",
        "# สร้างตารางที่จัดเก็บข้อมูลการซื้อรองเท้าของลูกค้าตามคุณลักษณะ (Features) ประกอบด้วย\n",
        "# เพศ (sex), อายุ (age), ชนิดของรองเท้า (target)\n",
        "data = pd.DataFrame({             \n",
        "    'sex':[1, 0, 1, 1, 0, 1, 0],                # {'female': 0}, {'male': 1} \n",
        "    'age':[30, 17, 25, 18, 19, 35, 30],\n",
        "    'target':[1, 2, 1, 2, 2, 1, 0]              # {'high-heels': 0}, {'oxfords': 1}, {'sneakers': 2}\n",
        "\n",
        "    #'sex':['male', 'female', 'male', 'male', 'female', 'male','female'],\n",
        "    #'age':[30, 17, 25, 18, 19, 35, 30],\n",
        "    #'target':['oxfords', 'sneakers', 'oxfords', 'sneakers', 'sneakers', 'oxfords', 'high-heels']\n",
        "})\n",
        "\n",
        "data"
      ]
    },
    {
      "cell_type": "markdown",
      "source": [
        "## การแสดงข้อมูลที่จัดเก็บใน ตาราง (Preview Table)\n"
      ],
      "metadata": {
        "id": "grt39Y1Qrsq6"
      }
    },
    {
      "cell_type": "code",
      "source": [
        "# แสดงผลข้อมูล 5 แถวแรกในตาราง (Table)\n"
      ],
      "metadata": {
        "id": "mdDwn-EyrrTk"
      },
      "execution_count": null,
      "outputs": []
    },
    {
      "cell_type": "code",
      "source": [
        "# แสดงผลข้อมูล 5 แถวสุดท้ายในตาราง (Table)\n"
      ],
      "metadata": {
        "id": "ruTfffufuHcB"
      },
      "execution_count": null,
      "outputs": []
    },
    {
      "cell_type": "markdown",
      "source": [
        "## การแสดงข้อมูลคุณลักษณะของข้อมูลที่จัดเก็บในตาราง (Table Information)"
      ],
      "metadata": {
        "id": "ZW64mvW4tMMD"
      }
    },
    {
      "cell_type": "code",
      "source": [
        "# แสดงจำนวนแถว และคอลัมน์ในตาราง (Rows, Columns)\n"
      ],
      "metadata": {
        "id": "CWQfWrurv_kQ"
      },
      "execution_count": null,
      "outputs": []
    },
    {
      "cell_type": "code",
      "source": [
        "# ------------------------------------------------------------------------------------------\n",
        "# - แสดงข้อมูลของ คุณลักษณะ (Features) ประกอบด้วย\n",
        "# - จำนวนแถว (RangeIndex)\n",
        "# - จำนวนคอลัมน์ (Data columns)\n",
        "# - ลำดับที่ (#) ชื่อคอลัมน์ (Column) จำนวนแถวที่ข้อมูลไม่เป็นค่าว่าง (Non-Null Count) ชนิดของข้อมูล (Dtype)\n",
        "# - พื้นที่ในหน่วยความจำ (memory usage)\n",
        "# ------------------------------------------------------------------------------------------\n"
      ],
      "metadata": {
        "id": "7JOQeoiqmOnv"
      },
      "execution_count": null,
      "outputs": []
    },
    {
      "cell_type": "code",
      "source": [
        "# แสดงค่าสถิติเชิงบรรยายของคอลัมน์ที่สามารถคำนวณได้ (มีชนิดเป็นตัวเลข: int, float) \n",
        "# เพื่อดูการกระจายตัวของชุดข้อมูล โดยไม่นับรวมค่า NaN หรือ Missing Data\n"
      ],
      "metadata": {
        "id": "iCgTofyYobRZ"
      },
      "execution_count": null,
      "outputs": []
    },
    {
      "cell_type": "markdown",
      "source": [
        "### แสดงข้อมูลที่จัดเก็บในแต่ละคอลัมน์แบบไม่ซ้ำ (Unique)"
      ],
      "metadata": {
        "id": "ABIywv4U0kr2"
      }
    },
    {
      "cell_type": "code",
      "source": [
        "# อยากทราบว่ามีเพศอยู่กี่แบบ?\n"
      ],
      "metadata": {
        "id": "s4vg_d_TxUjY"
      },
      "execution_count": null,
      "outputs": []
    },
    {
      "cell_type": "code",
      "source": [
        "# อยากทราบว่าลูกค้ามีอายุอยู่กี่แบบ? \n"
      ],
      "metadata": {
        "id": "x3U3KcJ5xhj0"
      },
      "execution_count": null,
      "outputs": []
    },
    {
      "cell_type": "code",
      "source": [
        "# อยากทราบว่ามีรองเท้าอยู่กี่แบบ?\n"
      ],
      "metadata": {
        "id": "TY6VyMLuxp_a"
      },
      "execution_count": null,
      "outputs": []
    },
    {
      "cell_type": "markdown",
      "source": [
        "## การกรองเพื่อดูข้อมูลที่เราสนใจ (Filtering)"
      ],
      "metadata": {
        "id": "ZSWfaZLD1EMI"
      }
    },
    {
      "cell_type": "code",
      "source": [
        "# แสดงข้อมูลทุกแถวที่ลูกค้าเป็นเพศชาย (sex == 1)\n"
      ],
      "metadata": {
        "id": "38nMk0q30A5c"
      },
      "execution_count": null,
      "outputs": []
    },
    {
      "cell_type": "code",
      "source": [
        "# แสดงข้อมูลทุกแถวที่ลูกค้ามีอายุ (age) มากกว่าหรือเท่ากับ (>=) 20 ปี\n"
      ],
      "metadata": {
        "id": "7DNIONLo3SCr"
      },
      "execution_count": null,
      "outputs": []
    },
    {
      "cell_type": "code",
      "source": [
        "# แสดงข้อมูลทุกแถวที่ลูกค้ามีอายุ (age) มากกว่าหรือเท่ากับ (>=) 20 ปี และ (&) เป็นเพศ (sex) ชาย (1)\n"
      ],
      "metadata": {
        "id": "Ldfqv-L74UyT"
      },
      "execution_count": null,
      "outputs": []
    },
    {
      "cell_type": "code",
      "source": [
        "# แสดงข้อมูลทุกแถวที่ลูกค้าใส่รองเท้าผ้าใบ (target == 2)\n"
      ],
      "metadata": {
        "id": "ziFKHawM1mC5"
      },
      "execution_count": null,
      "outputs": []
    },
    {
      "cell_type": "markdown",
      "source": [
        "## เลือกคุณสมบัติ (features) ที่จะใช้ในการตัดสินใจ และคำตอบ (target / label / class)\n",
        "\n",
        "เราจะแปลงข้อมูลให้อยู่ในรูปของ numpy.array เนื่องจาก scikit-learn จะใช้ข้อมูลในรูปแบบของ array 2 มิติ (ตาราง / DataFrame)"
      ],
      "metadata": {
        "id": "XSdEwbRPorR5"
      }
    },
    {
      "cell_type": "code",
      "source": [
        "import numpy as np\n",
        "\n",
        "# ใช้คอลัมน์เพศ (sex) และอายุ (age) ในการจำแนก (Classify) ประเภทของรองเท้าที่ลูกค้าเลือก\n",
        "# ใช้คอลัมน์รองเท้า (target) เป็นคำตอบ (label / answer) \n",
        "\n",
        "# สร้างอาร์เรย์ (ตารางในรูปแบบที่จะนำไปสอนให้คอมพิวเตอร์ได้เรียนรู้) เพื่อจัดเก็บเฉพาะคอลัมน์ที่จะใช้ในการสอน (Training) \n",
        "# สร้างอาร์เรย์ ของเป้าหมาย (target) แยกตามคลาส (Class) ที่เป็นคำตอบ (label / answer)"
      ],
      "metadata": {
        "id": "hAEkIT1yoeaS"
      },
      "execution_count": null,
      "outputs": []
    },
    {
      "cell_type": "code",
      "source": [
        "# ข้อมูลก่อนที่จะแปลงให้อยู่ในรูปของ อาร์เรย์\n"
      ],
      "metadata": {
        "id": "EIto_Z6f89Tg"
      },
      "execution_count": null,
      "outputs": []
    },
    {
      "cell_type": "code",
      "source": [
        "#อาร์เรย์ (ตารางในรูปแบบที่จะนำไปสอนให้คอมพิวเตอร์ได้เรียนรู้)\n"
      ],
      "metadata": {
        "id": "Ftz6vpaD8EDg"
      },
      "execution_count": null,
      "outputs": []
    },
    {
      "cell_type": "code",
      "source": [
        "#อาร์เรย์ (ตารางคำตอบในรูปแบบที่จะนำไปสอนให้คอมพิวเตอร์ได้เรียนรู้)\n"
      ],
      "metadata": {
        "id": "gx7pTsivDm9k"
      },
      "execution_count": null,
      "outputs": []
    },
    {
      "cell_type": "markdown",
      "source": [
        "## สร้าง Decision Tree Classifier เพื่อสร้างแบบจำลองต้นไม้สำหรับการจำแนก ประเภทของรองเท้า (Shoes)"
      ],
      "metadata": {
        "id": "h1NrwtX8DkgL"
      }
    },
    {
      "cell_type": "code",
      "source": [
        "# import Decision Tree Classifier มาจาก sklearn.tree\n",
        "\n",
        "# สร้างแบบจำลองต้นไม้เพื่อจำแนกประเภทของรองเท้า\n",
        "# นำข้อมูลมาให้ แบบจำลอง เรียนรู้\n",
        "# คำนวณคะแนน ความถูกต้องของโมเดล"
      ],
      "metadata": {
        "id": "fYJGCUil6Sre"
      },
      "execution_count": null,
      "outputs": []
    },
    {
      "cell_type": "code",
      "source": [],
      "metadata": {
        "id": "rQgjX4WXokRF"
      },
      "execution_count": null,
      "outputs": []
    },
    {
      "cell_type": "markdown",
      "source": [
        "## Data Visualization"
      ],
      "metadata": {
        "id": "exE2qryJCPHh"
      }
    },
    {
      "cell_type": "code",
      "source": [
        "# ปิดการใช้งานแจ้งเตือนทั้งหมด (Suppress All Warning in Python)\n",
        "import warnings\n",
        "\n",
        "warnings.filterwarnings('ignore')"
      ],
      "metadata": {
        "id": "aGtORSrxCR9x"
      },
      "execution_count": null,
      "outputs": []
    },
    {
      "cell_type": "markdown",
      "source": [
        "### แสดงแผนภาพประกอบการตัดสินใจ"
      ],
      "metadata": {
        "id": "HviXKlXPJ6uK"
      }
    },
    {
      "cell_type": "code",
      "source": [],
      "metadata": {
        "id": "0IuHccB1EbE8"
      },
      "execution_count": null,
      "outputs": []
    },
    {
      "cell_type": "markdown",
      "source": [
        "### แสดงต้นไม้ตัดสินใจ (Decision Tree)"
      ],
      "metadata": {
        "id": "5Z3WotiuJyE9"
      }
    },
    {
      "cell_type": "code",
      "source": [],
      "metadata": {
        "id": "EwiuaeKqJ3FX"
      },
      "execution_count": null,
      "outputs": []
    },
    {
      "cell_type": "markdown",
      "source": [
        "## บันทึกแบบจำลองเพื่อเอาไว้ใช้งานในภายหลัง"
      ],
      "metadata": {
        "id": "cBd6XFfM2nMR"
      }
    },
    {
      "cell_type": "code",
      "source": [
        "import pickle\n",
        "\n",
        "file_name = 'shoes_model.sav'               # ชื่อแฟ้มข้อมูลสำหรับบันทึกแบบจำลอง\n",
        "pickle.dump(model, open(file_name, 'wb'))   # บันทึกลงแฟ้มข้อมูล"
      ],
      "metadata": {
        "id": "4FD5IMv22udL"
      },
      "execution_count": null,
      "outputs": []
    },
    {
      "cell_type": "markdown",
      "source": [
        "## โหลดแบบจำลองที่บันทึกเอาไว้มาใช้งาน โดยไม่ต้อง Train ใหม่"
      ],
      "metadata": {
        "id": "AYlGDsb93Pvu"
      }
    },
    {
      "cell_type": "code",
      "source": [
        "load_model = pickle.load(open(file_name, 'rb'))   # อ่านแบบจำลองที่บันทึกไว้ก่อนหน้า\n",
        "result = load_model.score(features, target)       # คำนวณ\n",
        "\n",
        "print(result)"
      ],
      "metadata": {
        "colab": {
          "base_uri": "https://localhost:8080/"
        },
        "id": "TdBK0N5m3YCh",
        "outputId": "f0b11be4-abef-435f-dc02-cf12b558ecbc"
      },
      "execution_count": null,
      "outputs": [
        {
          "output_type": "stream",
          "name": "stdout",
          "text": [
            "1.0\n"
          ]
        }
      ]
    },
    {
      "cell_type": "markdown",
      "source": [
        "## ตัวอย่างการประยุกต์ใช้ Decision Tree กับปัญหาที่มีความซับซ้อนมากขึ้น"
      ],
      "metadata": {
        "id": "MySEeuhyOXfh"
      }
    },
    {
      "cell_type": "markdown",
      "source": [
        "### เตรียมข้อมูล\n",
        "\n",
        "\n",
        "1.   โหลดข้อมูลดอก Iris จาก datasets ที่มาพร้อมกับ sklearn\n",
        "2.   เตรียมแบบจำลองต้นไม้เพื่อการตัดสินใจ Decision Tree Classifier\n",
        "3.   แสดง keys() (ชื่อของคอลัมน์) ที่เก็บใน Iris ที่เราสามารถนำมาใช้งานได้\n",
        "4.   แสดง 'data' และ 'features_names' ของ Iris\n",
        "\n"
      ],
      "metadata": {
        "id": "a_Br0QGQtpxL"
      }
    },
    {
      "cell_type": "code",
      "source": [],
      "metadata": {
        "id": "oWxziWV33x8e"
      },
      "execution_count": null,
      "outputs": []
    },
    {
      "cell_type": "markdown",
      "source": [
        "### สร้าง DataFrame ชื่อ data เพื่อให้ง่ายต่อการทำความเข้าใจข้อมูล Iris\n",
        "\n",
        "\n",
        "1.   เก็บ data ของ: 'sepal_length', 'sepal_width', 'petal_length', 'petal_width'\n",
        "2.   เก็บ data ของ: 'target' \n",
        "3.   แสดงข้อมูลใน data (5 อันดับแรก)\n",
        "\n"
      ],
      "metadata": {
        "id": "xaZ-2NCPuunY"
      }
    },
    {
      "cell_type": "code",
      "source": [],
      "metadata": {
        "id": "ZeqTanto3zs6"
      },
      "execution_count": null,
      "outputs": []
    },
    {
      "cell_type": "markdown",
      "source": [
        "### สร้างแบบจำลองจากข้อมูลที่กำหนดไว้\n",
        "\n",
        "\n",
        "1.   เลือก features ที่เราต้องการนำมาใช้\n",
        "2.   ระบุ target\n",
        "3.   สร้างแบบจำลองต้นไม้ Decision Tree Classifier โดยระบุความลึกของต้นไม้ (max_depth = 2)\n",
        "4.   Train ด้วย features และ target ที่เราเตรียมไว้\n",
        "5.   คำนวณคะแนน (score) โดยใช้ features และ target\n",
        "\n",
        "\n"
      ],
      "metadata": {
        "id": "0MJTowfAvjS4"
      }
    },
    {
      "cell_type": "code",
      "source": [],
      "metadata": {
        "id": "OhXsT73K31kK"
      },
      "execution_count": null,
      "outputs": []
    },
    {
      "cell_type": "markdown",
      "source": [
        "### Data Visualization: Iris\n",
        "\n",
        "\n",
        "1.   นำเข้า Library seaborn และ matplotlib.pyplot\n",
        "2.   เซต (set) ค่าให้กราฟแสดงด้วยความสามารถของ seaborn\n",
        "3.   แสดงกราฟ seaborn แบบ pairplot โดยส่ง data เข้าไป"
      ],
      "metadata": {
        "id": "bGJE68JvTLtt"
      }
    },
    {
      "cell_type": "code",
      "source": [],
      "metadata": {
        "id": "83iaYOaP35ca"
      },
      "execution_count": null,
      "outputs": []
    },
    {
      "cell_type": "markdown",
      "source": [
        "### สร้างกราฟต้นไม้\n",
        "1. สร้างกราฟต้นไม้ แล้วแสดงผลเป็นรูปภาพ\n",
        "2. ปรับขนาดของกราฟด้วย matplotlib.pyplot และแสดงผลให้อ่านเข้าใจมากขึ้น โดยการระบุ feature_names และ class_names ที่ใช้\n",
        "3. สร้างกราฟต้นไม้ แล้วแสดงผลเป็นข้อความ (text)\n",
        "4. สร้างกราฟต้นไม้ แล้วแสดงผลเป็นข้อความ (text) พร้อม รายชื่อของ feature_name"
      ],
      "metadata": {
        "id": "DcCllvzVx0cV"
      }
    },
    {
      "cell_type": "code",
      "source": [],
      "metadata": {
        "id": "m7-Qaxkc38Wi"
      },
      "execution_count": null,
      "outputs": []
    }
  ]
}