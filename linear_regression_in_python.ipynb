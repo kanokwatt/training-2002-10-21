{
  "nbformat": 4,
  "nbformat_minor": 0,
  "metadata": {
    "colab": {
      "provenance": [],
      "collapsed_sections": [],
      "authorship_tag": "ABX9TyPUnrPduQdmdmGaTZwUlX6d",
      "include_colab_link": true
    },
    "kernelspec": {
      "name": "python3",
      "display_name": "Python 3"
    },
    "language_info": {
      "name": "python"
    }
  },
  "cells": [
    {
      "cell_type": "markdown",
      "metadata": {
        "id": "view-in-github",
        "colab_type": "text"
      },
      "source": [
        "<a href=\"https://colab.research.google.com/github/kanokwatt/training-2022-10-21/blob/main/linear_regression_in_python.ipynb\" target=\"_parent\"><img src=\"https://colab.research.google.com/assets/colab-badge.svg\" alt=\"Open In Colab\"/></a>"
      ]
    },
    {
      "cell_type": "markdown",
      "source": [
        "# Linear Regression in Python\n",
        "เนื้อหาแปล มาจาก\n",
        "https://realpython.com/linear-regression-in-python/"
      ],
      "metadata": {
        "id": "Vx3xlFQneWZe"
      }
    },
    {
      "cell_type": "markdown",
      "source": [
        "## Simple Linear Regression with scikit-learn"
      ],
      "metadata": {
        "id": "NQchjXQXehsT"
      }
    },
    {
      "cell_type": "markdown",
      "source": [
        "###Step 1: Provide data\n",
        "Now, you have two array, the input: x and the output:y. You should call .reshape() on x because this array must be two-dimensional, or more precisely, it must have one column and as many rows as necessary. That's exactly what the argument (-1, 1) of .reshape() specifies."
      ],
      "metadata": {
        "id": "FF34MWecfDVi"
      }
    },
    {
      "cell_type": "code",
      "source": [
        "import numpy as np\n",
        "\n",
        "x = np.array([5, 15, 25, 35, 45, 55]).reshape(-1, 1)    # แปลงรูปร่างของอาร์เรย์ให้เป็น 2 มิติ\n",
        "y = np.array([5, 20, 14, 32, 22, 38])"
      ],
      "metadata": {
        "id": "3TRjSqqEf7Mp"
      },
      "execution_count": null,
      "outputs": []
    },
    {
      "cell_type": "markdown",
      "source": [
        "This is how x and y look now:"
      ],
      "metadata": {
        "id": "q0FIQ_YdhDFg"
      }
    },
    {
      "cell_type": "code",
      "source": [
        "x"
      ],
      "metadata": {
        "id": "NEwmsXFzgF6w"
      },
      "execution_count": null,
      "outputs": []
    },
    {
      "cell_type": "code",
      "source": [
        "y"
      ],
      "metadata": {
        "id": "Sy8kbnXJhSvs"
      },
      "execution_count": null,
      "outputs": []
    },
    {
      "cell_type": "markdown",
      "source": [
        "###Step 2: Data Visualization"
      ],
      "metadata": {
        "id": "OUPlwJ0Zmxyn"
      }
    },
    {
      "cell_type": "code",
      "source": [
        "# แสดงกราฟ Scatter Plot ของ x และ y\n"
      ],
      "metadata": {
        "id": "XNJOx5bHm2SS"
      },
      "execution_count": null,
      "outputs": []
    },
    {
      "cell_type": "markdown",
      "source": [
        "###Step 3: Import packages and classes\n",
        "The first step is to import the package numpy and the class LinearRegression from sklearn.linear_model:"
      ],
      "metadata": {
        "id": "MygRYsH1etzl"
      }
    },
    {
      "cell_type": "code",
      "source": [
        "# นำเข้า Library สำหรับแบบจำลองสมการเชิงเส้น (Linear Regression)\n"
      ],
      "metadata": {
        "id": "mZlyoCG8eVd_"
      },
      "execution_count": null,
      "outputs": []
    },
    {
      "cell_type": "markdown",
      "source": [
        "###Step 4: Create a model and fit it\n",
        "This statement creates the variable model as an instance of LinearRegression. You can provide several optional parameters to LinearRegression:\n"
      ],
      "metadata": {
        "id": "Q_BfdPDShXmJ"
      }
    },
    {
      "cell_type": "code",
      "source": [
        "# สร้างแบบจำลองสมการเชิงเส้น\n"
      ],
      "metadata": {
        "id": "hZXeV8xJhWhh"
      },
      "execution_count": null,
      "outputs": []
    },
    {
      "cell_type": "markdown",
      "source": [
        "Your model as defined above uses the default values of all parameters\n",
        "\n",
        "It's time to start using the model. First, you need to call .fit() on model:"
      ],
      "metadata": {
        "id": "ud6ZVVaxiJf0"
      }
    },
    {
      "cell_type": "code",
      "source": [
        "# ส่งข้อมูล x และ y ไปให้แบบจำลองเพื่อเรียนรู้\n"
      ],
      "metadata": {
        "id": "80H7YZUVhTpd"
      },
      "execution_count": null,
      "outputs": []
    },
    {
      "cell_type": "markdown",
      "source": [
        "### Step 5: Get Results\n",
        "Once you have your model fitted, you can get the results to check whether the model works satisfactorily and to interpret it.\n",
        "\n",
        "You can obtain the coefficient of determination, R<sup>2</sup>, with .score() called on model:"
      ],
      "metadata": {
        "id": "Ecyhks2jihrs"
      }
    },
    {
      "cell_type": "code",
      "source": [
        "# คำนวณคะแนน R2 เมื่อเราใช้ข้อมูลที่ใช้ในการ Train มาทดสอบ (Test)\n"
      ],
      "metadata": {
        "id": "iV2C_7wgidLg"
      },
      "execution_count": null,
      "outputs": []
    },
    {
      "cell_type": "markdown",
      "source": [
        "The attributes of model are .intercept_, which represents the coefficient b<sub>0</sub>, and .coef_, which represents b<sub>1</sub>:"
      ],
      "metadata": {
        "id": "qwqtagZRj5Ov"
      }
    },
    {
      "cell_type": "code",
      "source": [
        "# แสดงค่า intercept_ ของแบบจำลองที่ได้\n"
      ],
      "metadata": {
        "id": "sSunveeGjeAA"
      },
      "execution_count": null,
      "outputs": []
    },
    {
      "cell_type": "code",
      "source": [
        "# แสดงค่า สัมประสิทธิ์ (coef_) หรือ ค่าความชันของกราฟ (slope) ของแบบจำลองที่ได้\n",
        "# ถ้าเป็น Simple Linear Regression เราใช้ feature 1 ตัว ก็จะได้ coefficient ของ x0"
      ],
      "metadata": {
        "id": "PdU5UrHEkgPT"
      },
      "execution_count": null,
      "outputs": []
    },
    {
      "cell_type": "markdown",
      "source": [
        "### Step 6: Predict Response\n",
        "Once you have a satisfactory model, then you can use it for predictions with either existing or new data. To obtain the predicted response, use .predict()"
      ],
      "metadata": {
        "id": "Nlwc0SndksPW"
      }
    },
    {
      "cell_type": "code",
      "source": [
        "# ทำนาย (Predict) เพื่อหาค่าเป้าหมาย (y_predict) เมื่อเราส่งชุดข้อมูล x เข้าไป\n"
      ],
      "metadata": {
        "id": "nNa43dBSkke1"
      },
      "execution_count": null,
      "outputs": []
    },
    {
      "cell_type": "code",
      "source": [
        "# แสดงกราฟ Scatter Plot ของ x และ y\n",
        "# วาดเส้นของสมการที่ได้จากการทำนาย (x, y_predict)"
      ],
      "metadata": {
        "id": "nxE-IF4ioacy"
      },
      "execution_count": null,
      "outputs": []
    },
    {
      "cell_type": "code",
      "source": [
        "# แสดงกราฟ Scatter Plot ของ x และ y\n",
        "# แสดงกราฟ Scatter Plot ของ x และ y_predict\n",
        "# วาดเส้นของสมการที่ได้จากการทำนาย (x, y_predict)\n"
      ],
      "metadata": {
        "id": "vGDzHd4lp0fT"
      },
      "execution_count": null,
      "outputs": []
    },
    {
      "cell_type": "markdown",
      "source": [
        "When applying .predict(), you pass the regressor as the argument and get the corresponding predicted response. This is a nearly identical way to predict the response:\n",
        "\n",
        "เราสามารถนำเอาค่า model.intercept_ และ model.coef_ ไปใช้ในโปรแกรมอื่น ๆ ได้"
      ],
      "metadata": {
        "id": "JYWlPwsslg4u"
      }
    },
    {
      "cell_type": "code",
      "source": [
        "# เราสามารถนำค่าต่าง ๆ มาใช้ในการเขียนสูตร (formulae) สมการเส้นตรง = intercept_ + slope * x"
      ],
      "metadata": {
        "id": "UsQZP5xblcfM"
      },
      "execution_count": null,
      "outputs": []
    },
    {
      "cell_type": "markdown",
      "source": [
        "ลองทำนายค่า y_predict เมื่อ x = 30"
      ],
      "metadata": {
        "id": "Nhh5FLFRrwAD"
      }
    },
    {
      "cell_type": "code",
      "source": [
        "# ทดลองทำนายค่า y_predict เมื่อเรากำหนดค่า x = 30\n",
        "# ค่าของ x ต้องเป็น 2D-array [[30]] \n"
      ],
      "metadata": {
        "id": "8BlrAgLRr9wT"
      },
      "execution_count": null,
      "outputs": []
    },
    {
      "cell_type": "code",
      "source": [
        "# เราสามารถนำค่าต่าง ๆ มาใช้ในการเขียนสูตร (formulae) สมการเส้นตรง = intercept_ + slope * x\n"
      ],
      "metadata": {
        "id": "0DSFpfDhs55I"
      },
      "execution_count": null,
      "outputs": []
    },
    {
      "cell_type": "markdown",
      "source": [
        "## Multiple Linear Regression with scikit-learn"
      ],
      "metadata": {
        "id": "d5JuvQ23u2q_"
      }
    },
    {
      "cell_type": "markdown",
      "source": [
        "### Step 1: Provide data"
      ],
      "metadata": {
        "id": "ZZ6vFpXhvEK_"
      }
    },
    {
      "cell_type": "code",
      "source": [
        "import numpy as np\n",
        "\n",
        "x = [[0, 1], [5, 1], [15, 2], [25, 5], [35, 11], [45, 15], [55, 34], [60, 35]]\n",
        "y = [4, 5, 20, 14, 32, 22, 38, 43]\n",
        "\n",
        "x = np.array(x)\n",
        "y = np.array(y)"
      ],
      "metadata": {
        "id": "urmti3KgvSON"
      },
      "execution_count": null,
      "outputs": []
    },
    {
      "cell_type": "markdown",
      "source": [
        "###Step 2: Data Visualization"
      ],
      "metadata": {
        "id": "tD_luKJWFwA0"
      }
    },
    {
      "cell_type": "code",
      "source": [
        "# แสดงกราฟ Scatter Plot ของ x[:, 0] และ y โดยใช้ feature ตัวที่ 1 ของ x (คอลัมน์)\n",
        "# แสดงกราฟ Scatter Plot ของ x[:, 1] และ y โดยใช้ feature ตัวที่ 2 ของ x (คอลัมน์)"
      ],
      "metadata": {
        "id": "rGCRb4M_F0zh"
      },
      "execution_count": null,
      "outputs": []
    },
    {
      "cell_type": "markdown",
      "source": [
        "###Step 3: Import packages and classes"
      ],
      "metadata": {
        "id": "SHRJ9bDOGjLc"
      }
    },
    {
      "cell_type": "code",
      "source": [
        "# นำเข้า Library สำหรับแบบจำลองสมการเชิงเส้น (Linear Regression)"
      ],
      "metadata": {
        "id": "wmeErvYjvBBR"
      },
      "execution_count": null,
      "outputs": []
    },
    {
      "cell_type": "code",
      "source": [
        "x"
      ],
      "metadata": {
        "id": "60d1Bfkbv0IY"
      },
      "execution_count": null,
      "outputs": []
    },
    {
      "cell_type": "code",
      "source": [
        "y"
      ],
      "metadata": {
        "id": "wC0TMMbav1SM"
      },
      "execution_count": null,
      "outputs": []
    },
    {
      "cell_type": "markdown",
      "source": [
        "###Step 4: Create a model and fit it"
      ],
      "metadata": {
        "id": "7TNO2kHav6EM"
      }
    },
    {
      "cell_type": "code",
      "source": [
        "# สร้างแบบจำลองสมการเชิงเส้น\n"
      ],
      "metadata": {
        "id": "MSBp3y_Xv2D-"
      },
      "execution_count": null,
      "outputs": []
    },
    {
      "cell_type": "code",
      "source": [
        "# ส่งข้อมูล x และ y ไปให้แบบจำลองเพื่อเรียนรู้\n"
      ],
      "metadata": {
        "id": "v_pAk63cwGrn"
      },
      "execution_count": null,
      "outputs": []
    },
    {
      "cell_type": "markdown",
      "source": [
        "###Step 5: Get Results"
      ],
      "metadata": {
        "id": "y_F8gDDXwK54"
      }
    },
    {
      "cell_type": "code",
      "source": [
        "# คำนวณคะแนน R2 เมื่อเราใช้ข้อมูลที่ใช้ในการ Train มาทดสอบ (Test)\n"
      ],
      "metadata": {
        "id": "bky4TPQGwIgA"
      },
      "execution_count": null,
      "outputs": []
    },
    {
      "cell_type": "code",
      "source": [
        "# แสดงค่า intercept_ ของแบบจำลองที่ได้\n"
      ],
      "metadata": {
        "id": "BIWSyyTWwQuZ"
      },
      "execution_count": null,
      "outputs": []
    },
    {
      "cell_type": "code",
      "source": [
        "# แสดงค่า สัมประสิทธิ์ (coef_) หรือ ค่าความชันของกราฟ (slope) ของแบบจำลองที่ได้\n",
        "# เราใช้ feature 2 ตัว ก็จะได้ coefficient ของ x0, x1"
      ],
      "metadata": {
        "id": "tykrqR-EweU-"
      },
      "execution_count": null,
      "outputs": []
    },
    {
      "cell_type": "markdown",
      "source": [
        "###Step 6: Predict Response"
      ],
      "metadata": {
        "id": "02Uik9PZwnMQ"
      }
    },
    {
      "cell_type": "code",
      "source": [
        "# ทำนาย (Predict) เพื่อหาค่าเป้าหมาย (y_predict) เมื่อเราส่งชุดข้อมูล x เข้าไป\n"
      ],
      "metadata": {
        "id": "jbpIh3r0wkS8"
      },
      "execution_count": null,
      "outputs": []
    },
    {
      "cell_type": "code",
      "source": [
        "# แสดงกราฟ Scatter Plot ของ x ในคอลัมน์ที่ 1 และ y\n",
        "# แสดงกราฟ Scatter Plot ของ x ในคอลัมน์ที่ 2 และ y\n",
        "\n",
        "# วาดเส้นของสมการที่ได้จากการทำนาย (x ในคอลัมน์ที่ 1, y_predict)\n",
        "# วาดเส้นของสมการที่ได้จากการทำนาย (x ในคอลัมน์ที่ 2, y_predict)\n"
      ],
      "metadata": {
        "id": "N_3FXBknIloo"
      },
      "execution_count": null,
      "outputs": []
    },
    {
      "cell_type": "markdown",
      "source": [
        "You can predict the output values by multiplying each column of the input with appropriate weight, summing the result, and adding the intercept to the sum"
      ],
      "metadata": {
        "id": "WwQbHnka5Y9F"
      }
    },
    {
      "cell_type": "code",
      "source": [
        "# เราสามารถนำค่าต่าง ๆ มาใช้ในการเขียนสูตร (formulae) สมการเส้นตรง = intercept_ + slope1 * x + slope2 * x\n"
      ],
      "metadata": {
        "id": "vgPA2Llh62LL"
      },
      "execution_count": null,
      "outputs": []
    },
    {
      "cell_type": "code",
      "source": [
        "# สร้างข้อมูล x_new มา 10 ตัว แล้วแปลงเป็นอาร์เรย์ 2 มิติ แถวละ 2 ตัว \n"
      ],
      "metadata": {
        "id": "6jFd2bfA5h_P"
      },
      "execution_count": null,
      "outputs": []
    },
    {
      "cell_type": "code",
      "source": [
        "# ทำนายข้อมูล x_new ที่สุ่มมาทดสอบ\n"
      ],
      "metadata": {
        "id": "ufBLIpAb5quP"
      },
      "execution_count": null,
      "outputs": []
    },
    {
      "cell_type": "markdown",
      "source": [
        "How to Visualize Multiple Linear Regression in python\n",
        "\n",
        "https://www.youtube.com/watch?v=fJOhLKvWOJI\n",
        "\n",
        "https://www.youtube.com/watch?v=zITIFTsivN8\n"
      ],
      "metadata": {
        "id": "Rh9n_TAX49Ef"
      }
    },
    {
      "cell_type": "markdown",
      "source": [
        "## Polynomial Regression with sciket-learn"
      ],
      "metadata": {
        "id": "lE0nNn_F7hh8"
      }
    },
    {
      "cell_type": "markdown",
      "source": [
        "###Step 1: Provide Data"
      ],
      "metadata": {
        "id": "OQ6MzH7YJu0e"
      }
    },
    {
      "cell_type": "code",
      "source": [
        "# Random Number Generator\n",
        "# สุ่มตัวเลข x มา 50 ตัว เป็นตัวเลขระหว่าง 0 - 10 \n",
        "# นำค่า x ที่ได้มาคำนวณเป็นค่าเป้าหมาย (y) ด้วยสมการของ SINE WAVE"
      ],
      "metadata": {
        "id": "SUhyyRAWJt2F"
      },
      "execution_count": null,
      "outputs": []
    },
    {
      "cell_type": "code",
      "source": [
        "x"
      ],
      "metadata": {
        "id": "MG1fdK-BKILb"
      },
      "execution_count": null,
      "outputs": []
    },
    {
      "cell_type": "code",
      "source": [
        "y"
      ],
      "metadata": {
        "id": "Lh-vMze7KKHb"
      },
      "execution_count": null,
      "outputs": []
    },
    {
      "cell_type": "markdown",
      "source": [
        "###Step 2: Data Visualization"
      ],
      "metadata": {
        "id": "1I89PVG1KBuh"
      }
    },
    {
      "cell_type": "code",
      "source": [
        "# วาดกราฟ scatter plot"
      ],
      "metadata": {
        "id": "I1aOAB1nKFK-"
      },
      "execution_count": null,
      "outputs": []
    },
    {
      "cell_type": "markdown",
      "source": [
        "###Step 3: Import packages and classes"
      ],
      "metadata": {
        "id": "RzNkWR8cKUn3"
      }
    },
    {
      "cell_type": "code",
      "source": [
        "# นำเข้า Library สำหรับแบบจำลองสมการเชิงเส้น (Linear Regression)\n",
        "# นำเข้า Library สำหรับการสร้างคุณลักษณะแบบ Polynomial\n",
        "\n"
      ],
      "metadata": {
        "id": "Ny8eGeKM-nKn"
      },
      "execution_count": null,
      "outputs": []
    },
    {
      "cell_type": "markdown",
      "source": [
        "###Step 4: Create a model and fit it"
      ],
      "metadata": {
        "id": "fpQM2iqIBtUc"
      }
    },
    {
      "cell_type": "code",
      "source": [
        "# สร้างแบบจำลองสมการเชิงเส้นบน pipeline โดยกำหนด degree=7\n"
      ],
      "metadata": {
        "id": "7aXSdxghQmty"
      },
      "execution_count": null,
      "outputs": []
    },
    {
      "cell_type": "code",
      "source": [
        "# ส่งข้อมูล x (ต้องแปลงเป็น 2D-array) และ y ไปให้แบบจำลองเพื่อเรียนรู้\n"
      ],
      "metadata": {
        "id": "bUo6GoIaSIR1"
      },
      "execution_count": null,
      "outputs": []
    },
    {
      "cell_type": "markdown",
      "source": [
        "###Step 5: Predict Response"
      ],
      "metadata": {
        "id": "xkFRZwLVBkQ-"
      }
    },
    {
      "cell_type": "code",
      "source": [
        "# ทำการสร้างข้อมูลทดสอบ xfit ที่มีค่าระหว่าง 0 - 10 จำนวน 1000 ตัว\n",
        "# ลองเปลี่ยนเลข 1000 เป็น 10"
      ],
      "metadata": {
        "id": "EVaS3g4_SZRD"
      },
      "execution_count": null,
      "outputs": []
    },
    {
      "cell_type": "code",
      "source": [
        "# ทำนาย (Predict) เพื่อหาค่าเป้าหมาย (y_predict) เมื่อเราส่งชุดข้อมูล xfit (ต้องแปลงเป็น 2D-array) เข้าไป\n"
      ],
      "metadata": {
        "id": "HI5ck7A8ShrK"
      },
      "execution_count": null,
      "outputs": []
    },
    {
      "cell_type": "code",
      "source": [
        "# วาด scatter plot\n",
        "# วาดเส้นของ xfit และ yfit"
      ],
      "metadata": {
        "id": "WGdo4yQ8Swbu"
      },
      "execution_count": null,
      "outputs": []
    },
    {
      "cell_type": "code",
      "source": [
        "# คำนวณคะแนน R2 เมื่อเราใช้ข้อมูลที่ใช้ในการ Train มาทดสอบ (Test)\n",
        "# เมื่อเราส่งชุดข้อมูล x (ต้องแปลงเป็น 2D-array), y เข้าไป\n"
      ],
      "metadata": {
        "id": "uNRrvK7sVq49"
      },
      "execution_count": null,
      "outputs": []
    }
  ]
}