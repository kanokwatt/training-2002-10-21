{
  "nbformat": 4,
  "nbformat_minor": 0,
  "metadata": {
    "colab": {
      "provenance": [],
      "collapsed_sections": [],
      "authorship_tag": "ABX9TyO/r1OJpZwJXXd+NGaDFV7C",
      "include_colab_link": true
    },
    "kernelspec": {
      "name": "python3",
      "display_name": "Python 3"
    },
    "language_info": {
      "name": "python"
    }
  },
  "cells": [
    {
      "cell_type": "markdown",
      "metadata": {
        "id": "view-in-github",
        "colab_type": "text"
      },
      "source": [
        "<a href=\"https://colab.research.google.com/github/kanokwatt/training-2022-10-21/blob/main/introduction_to_data.ipynb\" target=\"_parent\"><img src=\"https://colab.research.google.com/assets/colab-badge.svg\" alt=\"Open In Colab\"/></a>"
      ]
    },
    {
      "cell_type": "markdown",
      "source": [
        "# วิทยาการข้อมูล (Data Science)"
      ],
      "metadata": {
        "id": "2C3W7j3YRI6h"
      }
    },
    {
      "cell_type": "markdown",
      "source": [
        "## ข้อมูล (Data) คืออะไร?"
      ],
      "metadata": {
        "id": "tl--jUu3PwpQ"
      }
    },
    {
      "cell_type": "code",
      "execution_count": null,
      "metadata": {
        "id": "xwI_vqVMPfd4"
      },
      "outputs": [],
      "source": []
    },
    {
      "cell_type": "markdown",
      "source": [
        "## วิทยาศาสตร์ (Science) คืออะไร?"
      ],
      "metadata": {
        "id": "vHGupZoURXfg"
      }
    },
    {
      "cell_type": "code",
      "source": [],
      "metadata": {
        "id": "ZhrgNLyJRkrZ"
      },
      "execution_count": null,
      "outputs": []
    }
  ]
}