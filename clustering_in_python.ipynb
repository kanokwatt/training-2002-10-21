{
  "nbformat": 4,
  "nbformat_minor": 0,
  "metadata": {
    "colab": {
      "provenance": [],
      "collapsed_sections": [],
      "authorship_tag": "ABX9TyOdQpbRpQO23Phd8UwoiMN0",
      "include_colab_link": true
    },
    "kernelspec": {
      "name": "python3",
      "display_name": "Python 3"
    },
    "language_info": {
      "name": "python"
    }
  },
  "cells": [
    {
      "cell_type": "markdown",
      "metadata": {
        "id": "view-in-github",
        "colab_type": "text"
      },
      "source": [
        "<a href=\"https://colab.research.google.com/github/kanokwatt/training-2022-10-21/blob/main/clustering_in_python.ipynb\" target=\"_parent\"><img src=\"https://colab.research.google.com/assets/colab-badge.svg\" alt=\"Open In Colab\"/></a>"
      ]
    },
    {
      "cell_type": "markdown",
      "source": [
        "# Clustering in Python"
      ],
      "metadata": {
        "id": "KuIQdsKLkSbg"
      }
    },
    {
      "cell_type": "code",
      "execution_count": null,
      "metadata": {
        "id": "LwyU8dxZkOrW"
      },
      "outputs": [],
      "source": [
        "import numpy as np"
      ]
    },
    {
      "cell_type": "code",
      "source": [
        "# ข้อมูลเป็น numpy.array 2D\n",
        "data = np.array([[8, 1], [12, 1], [42, 1], [10, 2], [39, 2], [26, 5], [23, 6], [30, 6], [25, 8]])"
      ],
      "metadata": {
        "id": "w1xoIRTxocM2"
      },
      "execution_count": null,
      "outputs": []
    },
    {
      "cell_type": "code",
      "source": [
        "data"
      ],
      "metadata": {
        "id": "IJRL6Dx7sLoL"
      },
      "execution_count": null,
      "outputs": []
    },
    {
      "cell_type": "code",
      "source": [
        "# library สำหรับสร้างกราฟ\n",
        "%matplotlib inline\n",
        "import matplotlib.pyplot as plt     \n",
        "import seaborn as sns\n",
        "\n",
        "sns.set()\n",
        "\n",
        "# แสดงกราฟ scatter plot"
      ],
      "metadata": {
        "id": "dGCM81rXqml-"
      },
      "execution_count": null,
      "outputs": []
    },
    {
      "cell_type": "markdown",
      "source": [
        "## สร้างแบบจำลอง"
      ],
      "metadata": {
        "id": "JunkHzVJwNoi"
      }
    },
    {
      "cell_type": "code",
      "source": [
        "# นำเข้า Library KMeans จาก sklearn.cluster\n",
        "\n",
        "# สร้างแบบจำลองที่ต้องการแบ่งเป็น 3 กลุ่ม\n",
        "# ส่งข้อมูลเข้าไปเรียนรู้ในแบบจำลอง"
      ],
      "metadata": {
        "id": "MlAgPWNDqt8H"
      },
      "execution_count": null,
      "outputs": []
    },
    {
      "cell_type": "code",
      "source": [
        "# ทำนายผลลัพธ์ โดยส่ง data เข้าไปทดสอบ\n"
      ],
      "metadata": {
        "id": "58vscZ-5q_29"
      },
      "execution_count": null,
      "outputs": []
    },
    {
      "cell_type": "code",
      "source": [
        "# แสดงกราฟ scatter plot โดยใช้ค่า y_predict แทน label\n",
        "\n",
        "# ค่ากลางของคลัสเตอร์\n",
        "# แสดงค่ากลางของคลัสเตอร์"
      ],
      "metadata": {
        "id": "1lgKfyiQrCHW"
      },
      "execution_count": null,
      "outputs": []
    },
    {
      "cell_type": "markdown",
      "source": [
        "## Utilize the elbow method to visualize the intertia for different values of K:"
      ],
      "metadata": {
        "id": "H3eMsg0Ttoxu"
      }
    },
    {
      "cell_type": "code",
      "source": [
        "# นำเข้า Library KMeans จาก sklearn.cluster\n",
        "\n",
        "\n",
        "# ข้อมูลเป็น numpy.array 2D\n",
        "data = np.array([[8, 1], [12, 1], [42, 1], [10, 2], [39, 2], [26, 5], [23, 6], [30, 6], [25, 8]])\n",
        "\n",
        "data"
      ],
      "metadata": {
        "id": "OQ7yvnHSt0Up"
      },
      "execution_count": null,
      "outputs": []
    },
    {
      "cell_type": "code",
      "source": [
        "# ใช้เก็บค่าผลลัพธ์ที่ได้จากคลัสเตอร์\n",
        "\n",
        "# วนรอบเพื่อลองสร้างคลัสเตอร์ตั้งแต่ 1 - 8 กลุ่ม\n",
        "# สร้างแบบจำลอง\n",
        "# ทำการเรียนรู้จากข้อมูล\n",
        "# measures how well a data was clustered by K-Means"
      ],
      "metadata": {
        "id": "cUDx9zTl-wmJ"
      },
      "execution_count": null,
      "outputs": []
    },
    {
      "cell_type": "code",
      "source": [
        "# แสดงกราฟ Elbow method\n"
      ],
      "metadata": {
        "id": "aC4L__JNutU9"
      },
      "execution_count": null,
      "outputs": []
    }
  ]
}