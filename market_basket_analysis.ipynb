{
  "nbformat": 4,
  "nbformat_minor": 0,
  "metadata": {
    "colab": {
      "provenance": [],
      "collapsed_sections": [],
      "authorship_tag": "ABX9TyO8isCvpz7IXWh0rhlJHjol",
      "include_colab_link": true
    },
    "kernelspec": {
      "name": "python3",
      "display_name": "Python 3"
    },
    "language_info": {
      "name": "python"
    }
  },
  "cells": [
    {
      "cell_type": "markdown",
      "metadata": {
        "id": "view-in-github",
        "colab_type": "text"
      },
      "source": [
        "<a href=\"https://colab.research.google.com/github/kanokwatt/training-2022-10-21/blob/main/market_basket_analysis.ipynb\" target=\"_parent\"><img src=\"https://colab.research.google.com/assets/colab-badge.svg\" alt=\"Open In Colab\"/></a>"
      ]
    },
    {
      "cell_type": "markdown",
      "source": [
        "# Market Basket Analysis\n",
        "\n",
        "Apriori is a popular algorithm for extracting frequent itemsets with applications in association rule learning."
      ],
      "metadata": {
        "id": "TmkcN2l0BMJ-"
      }
    },
    {
      "cell_type": "markdown",
      "source": [
        "##Example 1: Generating Frequent Itemsets"
      ],
      "metadata": {
        "id": "FNMApkupEbBl"
      }
    },
    {
      "cell_type": "markdown",
      "source": [
        "###Dataset"
      ],
      "metadata": {
        "id": "DbQqOqJOBe28"
      }
    },
    {
      "cell_type": "code",
      "source": [
        "dataset = [['Milk', 'Onion', 'Beer', 'Beans', 'Eggs', 'Yogurt'],\n",
        "           ['Dill', 'Onion', 'Beer', 'Beans', 'Eggs', 'Yogurt'],\n",
        "           ['Milk', 'Apple', 'Beans', 'Eggs'],\n",
        "           ['Milk', 'Orange', 'Corn', 'Beans', 'Yogurt'],\n",
        "           ['Corn', 'Onion', 'Onion', 'Beans', 'Ice cream', 'Eggs']]\n",
        "\n",
        "dataset"
      ],
      "metadata": {
        "colab": {
          "base_uri": "https://localhost:8080/"
        },
        "id": "renXRTwzBOh7",
        "outputId": "1344576f-4260-41ff-a527-24066436b448"
      },
      "execution_count": null,
      "outputs": [
        {
          "output_type": "execute_result",
          "data": {
            "text/plain": [
              "[['Milk', 'Onion', 'Beer', 'Beans', 'Eggs', 'Yogurt'],\n",
              " ['Dill', 'Onion', 'Beer', 'Beans', 'Eggs', 'Yogurt'],\n",
              " ['Milk', 'Apple', 'Beans', 'Eggs'],\n",
              " ['Milk', 'Orange', 'Corn', 'Beans', 'Yogurt'],\n",
              " ['Corn', 'Onion', 'Onion', 'Beans', 'Ice cream', 'Eggs']]"
            ]
          },
          "metadata": {},
          "execution_count": 6
        }
      ]
    },
    {
      "cell_type": "markdown",
      "source": [
        "We can Transform it into the right format via the TransactionEncoder as follows:"
      ],
      "metadata": {
        "id": "ol9AuFMXCPZE"
      }
    },
    {
      "cell_type": "code",
      "source": [
        "# เปลี่ยนจากชื่อสินค้า เป็น One-Hot Encoding \n",
        "\n",
        "# สร้างตัวเข้ารหัส\n",
        "# ส่ง dataset เข้าไปแปลง\n",
        "# แปลง dataset ให้อยู่ในรูปของ array\n",
        "\n",
        "# จัดเก็บข้อมูลในรูปของ DataFrame\n"
      ],
      "metadata": {
        "id": "Ff0ryesICZW_"
      },
      "execution_count": null,
      "outputs": []
    },
    {
      "cell_type": "markdown",
      "source": [
        "Now, let us return the items and itemsets with at least 60% support:"
      ],
      "metadata": {
        "id": "XjLPmXgcDosl"
      }
    },
    {
      "cell_type": "code",
      "source": [
        "# นำเข้า Library Apriori จาก mlxtend.frequent_patterns\n",
        "\n",
        "# จัดกลุ่มรายการสินค้า โดยกำหนดค่าสนับสนุนไม่ต่ำกว่า 60% และแสดงตามดัชนี (index)"
      ],
      "metadata": {
        "id": "Zh-nu54qDwAE"
      },
      "execution_count": null,
      "outputs": []
    },
    {
      "cell_type": "markdown",
      "source": [
        "By default, apriori returns the column indices of the items, which may be useful in downstream operations such as association rule mining. \n",
        "\n",
        "For better readability, we can set use_colnames=True to convert these integer values into the respective item names:"
      ],
      "metadata": {
        "id": "7Ghp76xwEn9_"
      }
    },
    {
      "cell_type": "code",
      "source": [
        "# จัดกลุ่มรายการสินค้า โดยกำหนดค่าสนับสนุนไม่ต่ำกว่า 60% และแสดงเป็นชื่อสินค้า"
      ],
      "metadata": {
        "id": "hMWGHBdYD4gG"
      },
      "execution_count": null,
      "outputs": []
    },
    {
      "cell_type": "markdown",
      "source": [
        "## Example 2: Selecting and Filtering Results\n",
        "\n",
        "Let's assume we are only interested in itemsets of length 2 that have a support of at least 80 percent. First, we create the frequent itemsets via apriori and add a new column that stores the length of each itemset:"
      ],
      "metadata": {
        "id": "8DQZIwwFFKAJ"
      }
    },
    {
      "cell_type": "code",
      "source": [
        "# สร้าง ตาราง (DataFrame) เพื่อจัดเก็บ frequent itemsets\n",
        "# เพิ่มคอลัมน์ใหม่ ชื่อ 'length' เพื่อจัดเก็บจำนวนของ itemsets\n"
      ],
      "metadata": {
        "id": "Rp2QwhaYFE-U"
      },
      "execution_count": null,
      "outputs": []
    },
    {
      "cell_type": "markdown",
      "source": [
        "Then, we can select the results that satisfy our desired criteria as follows:"
      ],
      "metadata": {
        "id": "xMiYZWpTGZ8y"
      }
    },
    {
      "cell_type": "code",
      "source": [
        "# จำนวนสินค้า 2 ชิ้น และมีค่าสนับสนุน >= 80%\n"
      ],
      "metadata": {
        "id": "kj4aJ7wUF2Hd"
      },
      "execution_count": null,
      "outputs": []
    },
    {
      "cell_type": "markdown",
      "source": [
        "## **ผู้เรียนลอง แสดงรายการสินค้าที่ซื้อพร้อมกัน 3 ชิ้น และมีค่าสนับสนุน >= 60%**"
      ],
      "metadata": {
        "id": "r01M4MyA6iln"
      }
    },
    {
      "cell_type": "code",
      "source": [
        "# ผู้เรียนลองเขียนเองนะครับ (คัดลอกจากข้างบน แล้วแก้ไขตามเงื่อนไข...นะครับ)"
      ],
      "metadata": {
        "id": "gmmorsfY6WLx"
      },
      "execution_count": null,
      "outputs": []
    },
    {
      "cell_type": "markdown",
      "source": [
        "Similary, using the Pandas API, we can select entries based on the \"itemsets\" column:"
      ],
      "metadata": {
        "id": "emUyRvjjG2Le"
      }
    },
    {
      "cell_type": "code",
      "source": [
        "# แสดงค่าสนับสนุนของการซื้อ หอมหัวใหญ่ พร้อมกับ ไข่"
      ],
      "metadata": {
        "id": "TsOZDP5FGta7"
      },
      "execution_count": null,
      "outputs": []
    },
    {
      "cell_type": "markdown",
      "source": [
        "## Example 3: Working with Sparse Representations\n",
        "\n",
        "To save memory, you may want to represent your transaction data in the sparse format. This is especially useful if you have lots of products and small transactions"
      ],
      "metadata": {
        "id": "REmShnt6H2AU"
      }
    },
    {
      "cell_type": "markdown",
      "source": [
        "### Dataset"
      ],
      "metadata": {
        "id": "HKbtrd_rJBJ9"
      }
    },
    {
      "cell_type": "code",
      "source": [
        "dataset = [['Milk', 'Onion', 'Beer', 'Beans', 'Eggs', 'Yogurt'],\n",
        "           ['Dill', 'Onion', 'Beer', 'Beans', 'Eggs', 'Yogurt'],\n",
        "           ['Milk', 'Apple', 'Beans', 'Eggs'],\n",
        "           ['Milk', 'Orange', 'Corn', 'Beans', 'Yogurt'],\n",
        "           ['Corn', 'Onion', 'Onion', 'Beans', 'Ice cream', 'Eggs']]\n",
        "\n",
        "dataset"
      ],
      "metadata": {
        "colab": {
          "base_uri": "https://localhost:8080/"
        },
        "id": "Pu8nTlriJDTg",
        "outputId": "c7956c1a-b2e9-4b3b-d64c-52b07063797b"
      },
      "execution_count": null,
      "outputs": [
        {
          "output_type": "execute_result",
          "data": {
            "text/plain": [
              "[['Milk', 'Onion', 'Beer', 'Beans', 'Eggs', 'Yogurt'],\n",
              " ['Dill', 'Onion', 'Beer', 'Beans', 'Eggs', 'Yogurt'],\n",
              " ['Milk', 'Apple', 'Beans', 'Eggs'],\n",
              " ['Milk', 'Orange', 'Corn', 'Beans', 'Yogurt'],\n",
              " ['Corn', 'Onion', 'Onion', 'Beans', 'Ice cream', 'Eggs']]"
            ]
          },
          "metadata": {},
          "execution_count": 15
        }
      ]
    },
    {
      "cell_type": "code",
      "source": [
        "# เปลี่ยนจากชื่อสินค้า เป็น One-Hot Encoding โดยใช้ TransactionEncoder จาก mlxtend.preprocessing\n",
        "\n",
        "# สร้างตัวเข้ารหัส\n",
        "# ส่ง dataset เข้าไปแปลง\n",
        "# แปลง dataset ให้อยู่ในรูปของ array\n",
        "\n",
        "# จัดเก็บข้อมูลในรูปของ DataFrame\n"
      ],
      "metadata": {
        "id": "-di5gnG0HKMX"
      },
      "execution_count": null,
      "outputs": []
    },
    {
      "cell_type": "code",
      "source": [
        "# นำเข้า Library Apriori จาก mlxtend.frequent_patterns"
      ],
      "metadata": {
        "id": "n8TOU4xb0YP3"
      },
      "execution_count": null,
      "outputs": []
    },
    {
      "cell_type": "code",
      "source": [
        "# จัดกลุ่มรายการสินค้า โดยกำหนดค่าสนับสนุนไม่ต่ำกว่า 60% และแสดงเป็นชื่อสินค้า"
      ],
      "metadata": {
        "id": "xhkCWt6BIskt"
      },
      "execution_count": null,
      "outputs": []
    }
  ]
}