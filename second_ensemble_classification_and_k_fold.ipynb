{
  "nbformat": 4,
  "nbformat_minor": 0,
  "metadata": {
    "colab": {
      "provenance": [],
      "collapsed_sections": [],
      "authorship_tag": "ABX9TyNrSLcUrLjvOLNv9PE4aJAq",
      "include_colab_link": true
    },
    "kernelspec": {
      "name": "python3",
      "display_name": "Python 3"
    },
    "language_info": {
      "name": "python"
    }
  },
  "cells": [
    {
      "cell_type": "markdown",
      "metadata": {
        "id": "view-in-github",
        "colab_type": "text"
      },
      "source": [
        "<a href=\"https://colab.research.google.com/github/kanokwatt/training-2022-10-21/blob/main/second_ensemble_classification_and_k_fold.ipynb\" target=\"_parent\"><img src=\"https://colab.research.google.com/assets/colab-badge.svg\" alt=\"Open In Colab\"/></a>"
      ]
    },
    {
      "cell_type": "markdown",
      "source": [
        "#Mlxtend (Machine Learning Extensions) \n",
        "\n",
        "is a Python library of useful tools for the day-to-day data science tasks\n",
        "\n",
        "Source: http://rasbt.github.io/mlxtend/user_guide/classifier/EnsembleVoteClassifier/"
      ],
      "metadata": {
        "id": "-1pKazUi42f2"
      }
    },
    {
      "cell_type": "markdown",
      "source": [
        "## Data Understanding"
      ],
      "metadata": {
        "id": "_JMLt_Og6NIA"
      }
    },
    {
      "cell_type": "code",
      "execution_count": null,
      "metadata": {
        "id": "riX0BJxF4z-K"
      },
      "outputs": [],
      "source": [
        "# load ข้อมูลดอก iris จาก sklearn.datasets\n",
        "from sklearn.datasets import load_iris\n",
        "\n",
        "iris = load_iris()                    \n",
        "\n",
        "iris"
      ]
    },
    {
      "cell_type": "code",
      "source": [
        "# ตรวจสอบชนิดของตัวแปร iris\n"
      ],
      "metadata": {
        "id": "Cf4irDeE43OC"
      },
      "execution_count": null,
      "outputs": []
    },
    {
      "cell_type": "code",
      "source": [
        "# ตรวจสอบดูว่ามี key ที่จัดเก็บข้อมูลอะไรบ้าง?\n"
      ],
      "metadata": {
        "id": "hujfYKSx5L3L"
      },
      "execution_count": null,
      "outputs": []
    },
    {
      "cell_type": "code",
      "source": [
        "# แสดงผลคำอธิบาย ('DESCR') ของ iris\n"
      ],
      "metadata": {
        "id": "DODG67qu5PHU"
      },
      "execution_count": null,
      "outputs": []
    },
    {
      "cell_type": "code",
      "source": [
        "# แสดงชื่อของคุณลักษณะ iris\n"
      ],
      "metadata": {
        "id": "OTPi8BwS56CN"
      },
      "execution_count": null,
      "outputs": []
    },
    {
      "cell_type": "code",
      "source": [
        "# แสดงค่าเป้าหมาย (target) ของดอกทั้ง 3 ชนิด\n"
      ],
      "metadata": {
        "id": "ITok3sOK6BL1"
      },
      "execution_count": null,
      "outputs": []
    },
    {
      "cell_type": "code",
      "source": [
        "# เตรียมข้อมูลคุณลักษณะ 2 ตัว คือ sepal width (cm), petal length (cm)\n",
        "# จัดเก็บไว้ใน X กับ y\n",
        "# [sepal width (cm), petal length (cm)]"
      ],
      "metadata": {
        "id": "o0rAT_Qi97Go"
      },
      "execution_count": null,
      "outputs": []
    },
    {
      "cell_type": "markdown",
      "source": [
        "## Create Model"
      ],
      "metadata": {
        "id": "_jarPvRj6Jz_"
      }
    },
    {
      "cell_type": "code",
      "source": [
        "# นำเข้า Library sklearn.model_selection\n",
        "# นำเข้า LogisticRegression จาก sklearn.linear_model\n",
        "# นำเข้า GaussianNB จาก sklearn.naive_bayes\n",
        "# นำเข้า RandomForestClassifier จาก sklearn.ensemble\n",
        "\n",
        "# สร้างแบบจำลอง Logistic Regression\n",
        "# สร้างแบบจำลอง Gaussian Naive Bayes\n",
        "# สร้างแบบจำลอง Random Forest"
      ],
      "metadata": {
        "id": "V83mAULo6CQS"
      },
      "execution_count": null,
      "outputs": []
    },
    {
      "cell_type": "markdown",
      "source": [
        "### K-Fold Cross Validation"
      ],
      "metadata": {
        "id": "qB4kKUg1650k"
      }
    },
    {
      "cell_type": "code",
      "source": [
        "# วนรอบ เพื่อให้แต่ละ Classifier ได้ทำการเรียนรู้ ด้วยการแบ่งข้อมูลออกเป็น 5 ส่วน\n"
      ],
      "metadata": {
        "id": "yL9CHqB_6_XF"
      },
      "execution_count": null,
      "outputs": []
    },
    {
      "cell_type": "markdown",
      "source": [
        "### Ensemble Voting"
      ],
      "metadata": {
        "id": "qrrkNepnCv8n"
      }
    },
    {
      "cell_type": "code",
      "source": [
        "#------------------------------------------------------------------------------------------------------\n",
        "# แก้ปัญหา Dependency ที่มีการอ้างอิง from sklearn.externals import six is deprecated, use import six instead\n",
        "#------------------------------------------------------------------------------------------------------\n",
        "import six\n",
        "import sys\n",
        "sys.modules['sklearn.externals.six'] = six\n",
        "#------------------------------------------------------------------------------------------------------\n",
        "\n",
        "# นำเข้า Library สำหรับการ Vote ของ Classifier\n",
        "\n",
        "\n",
        "# ทำการรวมเอาแต่ละ Classifier มา Vote โดยกำหนดค่าน้ำหนักเท่ากันอย่างละ 1\n",
        "\n",
        "\n",
        "# วนรอบ เพื่อให้แต่ละ Classifier ได้ทำการเรียนรู้ ด้วยการแบ่งข้อมูลออกเป็น 5 ส่วน\n"
      ],
      "metadata": {
        "id": "05QP8totC0qo"
      },
      "execution_count": null,
      "outputs": []
    },
    {
      "cell_type": "markdown",
      "source": [
        "## Data Visualization"
      ],
      "metadata": {
        "id": "vbJPpp24Eev9"
      }
    },
    {
      "cell_type": "code",
      "source": [
        "# แสดงกราฟที่ได้จากแต่ละ Classifier\n",
        "\n",
        "# วนรอบ เพื่อให้แต่ละ Classifier ได้นำข้อมูลไปสร้างกราฟ\n"
      ],
      "metadata": {
        "id": "NF7ahNfmEhgl"
      },
      "execution_count": null,
      "outputs": []
    }
  ]
}