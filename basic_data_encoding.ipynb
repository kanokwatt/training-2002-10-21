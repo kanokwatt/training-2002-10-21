{
  "nbformat": 4,
  "nbformat_minor": 0,
  "metadata": {
    "colab": {
      "provenance": [],
      "collapsed_sections": [],
      "authorship_tag": "ABX9TyM1/md/foTEm8MsmzKB6Lr9",
      "include_colab_link": true
    },
    "kernelspec": {
      "name": "python3",
      "display_name": "Python 3"
    },
    "language_info": {
      "name": "python"
    }
  },
  "cells": [
    {
      "cell_type": "markdown",
      "metadata": {
        "id": "view-in-github",
        "colab_type": "text"
      },
      "source": [
        "<a href=\"https://colab.research.google.com/github/kanokwatt/training-2022-10-21/blob/main/basic_data_encoding.ipynb\" target=\"_parent\"><img src=\"https://colab.research.google.com/assets/colab-badge.svg\" alt=\"Open In Colab\"/></a>"
      ]
    },
    {
      "cell_type": "markdown",
      "source": [
        "# Label Encoding: การแปลงข้อมูลจาก Categorial เป็น Numerical (จำนวน Feature เท่าเดิม)"
      ],
      "metadata": {
        "id": "pQUvDcUxmmHN"
      }
    },
    {
      "cell_type": "markdown",
      "source": [
        "## Step 1: ข้อมูลที่เตรียมไว้"
      ],
      "metadata": {
        "id": "vGjkV3LDm27U"
      }
    },
    {
      "cell_type": "code",
      "execution_count": null,
      "metadata": {
        "id": "Y-mqIeVMsWZZ"
      },
      "outputs": [],
      "source": [
        "import pandas as pd\n",
        "\n",
        "data = pd.DataFrame({\n",
        "    'sex':['male', 'female', 'female', 'male'],\n",
        "    'target':['oxfords', 'sneakers', 'high-heels', 'sneakers']\n",
        "})\n",
        "\n",
        "data"
      ]
    },
    {
      "cell_type": "markdown",
      "source": [
        "## Step 2: นำเข้า Library ที่จำเป็น และเข้ารหัส (Encoder) ข้อมูลที่ต้องการ\n",
        "และสร้าง LabelEncoder ที่ต้องการ\n",
        "\n",
        "1.   sklearn.preprocessing: สำหรับจัดเตรียมข้อมูล\n",
        "2.   สร้าง LabelEncoder จาก sklearn.preprocessing\n",
        "3.   เลือกแปลงคอลัมน์ sex จาก {'female': 0}, {'male': 1} แล้วแทนค่าลงใน data['sex']\n",
        "4.   แสดงข้อมูลใหม่ที่อยู่ใน DataFrame (data)\n",
        "5.   แสดง class ในข้อที่ 3\n"
      ],
      "metadata": {
        "id": "vYc2JsD_m-r9"
      }
    },
    {
      "cell_type": "code",
      "source": [],
      "metadata": {
        "id": "5silIWBYuQv_"
      },
      "execution_count": null,
      "outputs": []
    },
    {
      "cell_type": "markdown",
      "source": [
        "# One-Hot Encoding: การแปลงข้อมูลจาก Categorial เป็น Numerical (แบบที่สร้าง Feature ใหม่)"
      ],
      "metadata": {
        "id": "pJUvS2k6oIjj"
      }
    },
    {
      "cell_type": "markdown",
      "source": [
        "## Step 1: ข้อมูลที่เตรียมไว้"
      ],
      "metadata": {
        "id": "GiQ1Q2tVp09g"
      }
    },
    {
      "cell_type": "code",
      "source": [
        "import pandas as pd\n",
        "\n",
        "data = pd.DataFrame({\n",
        "    'sex':['male', 'female', 'female', 'male'],\n",
        "    'target':['oxfords', 'sneakers', 'high-heels', 'sneakers']\n",
        "})\n",
        "\n",
        "data"
      ],
      "metadata": {
        "id": "23lxH9-ouwfi"
      },
      "execution_count": null,
      "outputs": []
    },
    {
      "cell_type": "markdown",
      "source": [
        "## Step 2: นำเข้า Library ที่จำเป็น และเข้ารหัส (Encoder) ข้อมูลที่ต้องการ\n",
        "และสร้าง OneHotEncoder ที่ต้องการ\n",
        "\n",
        "1.   sklearn.preprocessing: สำหรับจัดเตรียมข้อมูล\n",
        "2.   สร้าง OneHotEncoder จาก sklearn.preprocessing\n",
        "3.   เลือกแปลงคอลัมน์ sex แล้วแทนค่าลงใน DataFrame ใหม่ \n",
        "4.   เปลี่ยนชื่อ คอลัมน์ของ DataFrame ใหม่ในข้อ 3 เป็น ['female', 'male'] ตามลำดับ\n",
        "5.   แสดงข้อมูลใหม่ที่อยู่ใน DataFrame ใหม่ในข้อ 4\n",
        "6.   เพิ่มคอลัมน์ target ให้กับ DataFrame ใหม่ในข้อที่ 5"
      ],
      "metadata": {
        "id": "pN4gSd6Rp5f_"
      }
    },
    {
      "cell_type": "code",
      "source": [],
      "metadata": {
        "id": "deN9Lyqkvymt"
      },
      "execution_count": 7,
      "outputs": []
    },
    {
      "cell_type": "markdown",
      "source": [
        "#สร้าง LabelEncoder ให้กับ target\n",
        "\n",
        "1.   sklearn.preprocessing: สำหรับจัดเตรียมข้อมูล\n",
        "2.   สร้าง LabelEncoder จาก sklearn.preprocessing\n",
        "3.   เลือกแปลงคอลัมน์ target จาก {'high-heels': 0}, {'oxfords': 1}, {'sneakers': 2} แล้วแทนค่าลงใน new_data['target']\n",
        "4.   แสดงข้อมูลใหม่ที่อยู่ใน DataFrame (new_data)\n",
        "5.   แสดง class ในข้อที่ 3"
      ],
      "metadata": {
        "id": "jgaZfBHyr_X5"
      }
    },
    {
      "cell_type": "code",
      "source": [],
      "metadata": {
        "id": "mQnGmbzQ2A0D"
      },
      "execution_count": null,
      "outputs": []
    }
  ]
}