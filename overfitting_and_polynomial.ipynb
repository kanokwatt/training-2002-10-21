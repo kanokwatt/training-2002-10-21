{
  "nbformat": 4,
  "nbformat_minor": 0,
  "metadata": {
    "colab": {
      "provenance": [],
      "collapsed_sections": [],
      "authorship_tag": "ABX9TyMyOPl0gseGukOe1Rtod2+F",
      "include_colab_link": true
    },
    "kernelspec": {
      "name": "python3",
      "display_name": "Python 3"
    },
    "language_info": {
      "name": "python"
    }
  },
  "cells": [
    {
      "cell_type": "markdown",
      "metadata": {
        "id": "view-in-github",
        "colab_type": "text"
      },
      "source": [
        "<a href=\"https://colab.research.google.com/github/kanokwatt/training-2022-10-21/blob/main/overfitting_and_polynomial.ipynb\" target=\"_parent\"><img src=\"https://colab.research.google.com/assets/colab-badge.svg\" alt=\"Open In Colab\"/></a>"
      ]
    },
    {
      "cell_type": "markdown",
      "source": [
        "###Step 1: Provide Data\n"
      ],
      "metadata": {
        "id": "417GEtNsCGXb"
      }
    },
    {
      "cell_type": "code",
      "execution_count": null,
      "metadata": {
        "id": "iKEI7RlLHbB-"
      },
      "outputs": [],
      "source": [
        "# ข้อมูลคุณลักษณะ (x) และค่าเป้าหมาย (y)\n",
        "import pandas as pd\n",
        "\n",
        "data = pd.DataFrame([[1, 3],\n",
        "                     [5, 5],\n",
        "                     [5, 10],\n",
        "                     [10, 12],\n",
        "                     [14, 16],\n",
        "                     [17, 15],\n",
        "                     [21, 7],\n",
        "                     [24, 4],\n",
        "                     [25, 1]])\n",
        "\n",
        "data"
      ]
    },
    {
      "cell_type": "code",
      "source": [
        "# เปลี่ยนชื่อ คอลัมน์ ของ data ให้เป็น 'x' กับ 'y'\n"
      ],
      "metadata": {
        "id": "4eAnwoK6Jn9i"
      },
      "execution_count": null,
      "outputs": []
    },
    {
      "cell_type": "code",
      "source": [
        "# แสดงข้อมูลรายละเอียดภายใน data\n"
      ],
      "metadata": {
        "id": "Sk0RtUMoNu8t"
      },
      "execution_count": null,
      "outputs": []
    },
    {
      "cell_type": "markdown",
      "source": [
        "###Step 2: Data Visualization\n"
      ],
      "metadata": {
        "id": "A8qedhOZCafQ"
      }
    },
    {
      "cell_type": "code",
      "source": [
        "# สร้างกราฟ scatter plot ด้วยใช้ข้อมูลจากคุณลักษณะของ 'x' และ 'y' \n"
      ],
      "metadata": {
        "id": "5_XaHqglJeDR"
      },
      "execution_count": null,
      "outputs": []
    },
    {
      "cell_type": "markdown",
      "source": [
        "###Step 3: Import packages and classes\n",
        "The first step is to import the package numpy and the class LinearRegression from sklearn.linear_model:"
      ],
      "metadata": {
        "id": "IDdeC7rkCo8s"
      }
    },
    {
      "cell_type": "code",
      "source": [
        "# จัดเตรียม Library ของสมการเชิงเส้น Linear Regression\n",
        "# จัดเตรียม Library ของคุณลักษณะในรูปของ Polynomial\n",
        "# สร้าง Pipeline สำหรับข้อมูล Polynomial ใน degree ที่เราอยากทราบ และโมเดลที่เราสนใจ\n"
      ],
      "metadata": {
        "id": "bIlZrOxuLPSQ"
      },
      "execution_count": null,
      "outputs": []
    },
    {
      "cell_type": "code",
      "source": [
        "# จัดเก็บข้อมูลในรูปของ 'x' ในรูป numpy.array"
      ],
      "metadata": {
        "id": "nMbrtd3wMrw7"
      },
      "execution_count": null,
      "outputs": []
    },
    {
      "cell_type": "code",
      "source": [
        "# จัดเก็บข้อมูลในรูปของ 'y' ในรูป numpy.array"
      ],
      "metadata": {
        "id": "bRvDlQZoNM80"
      },
      "execution_count": null,
      "outputs": []
    },
    {
      "cell_type": "markdown",
      "source": [
        "###Step 4: Create a model and fit it\n",
        "This statement creates the variable model as an instance of LinearRegression. You can provide several optional parameters to LinearRegression:"
      ],
      "metadata": {
        "id": "1MMRlFqSC1J3"
      }
    },
    {
      "cell_type": "code",
      "source": [
        "# สร้างแบบจำลองจาก Pipeline โดยแบบจำลองจะรับข้อมูลเป็น Polynomial มี Degree = 1\n",
        "# แปลงข้อมูล 'x' จาก 1 มิติ เป็น 2 มิติ\n",
        "# เตรียมข้อมูล 'xfit' สำหรับใช้ในการทดสอบ ให้มีค่าระหว่าง 0 - 25 จำนวน 1000 ข้อมูล\n",
        "# เตรียมข้อมูล 'yfit' เพื่อเก็บผลการทำนายที่ได้จาก 'xfit'\n",
        "# วาดกราฟด้วย scatter plot โดยใช้ข้อมูล 'x' และ 'y'\n",
        "# วาดเส้นของการทดสอบที่ได้จาก 'xfit' และ 'yfit'\n"
      ],
      "metadata": {
        "id": "g1Ox2eVPPfIK"
      },
      "execution_count": null,
      "outputs": []
    },
    {
      "cell_type": "markdown",
      "source": [
        "### Step 5: Get Results\n",
        "Once you have your model fitted, you can get the results to check whether the model works satisfactorily and to interpret it.\n",
        "\n",
        "You can obtain the coefficient of determination, R<sup>2</sup>, with .score() called on model:"
      ],
      "metadata": {
        "id": "lMaS91Y3DHdo"
      }
    },
    {
      "cell_type": "code",
      "source": [
        "# ค่า R2 วัดว่าแบบจำลองทำนายได้ดีไหม?"
      ],
      "metadata": {
        "id": "9-KNlsPyUgxo"
      },
      "execution_count": null,
      "outputs": []
    },
    {
      "cell_type": "markdown",
      "source": [
        "## สร้างแบบจำลองโดยปรับ Degree = 2 ของสมการ"
      ],
      "metadata": {
        "id": "xtNR78iZDPLs"
      }
    },
    {
      "cell_type": "code",
      "source": [
        "# สร้างแบบจำลองจาก Pipeline โดยแบบจำลองจะรับข้อมูลเป็น Polynomial มี Degree = 2\n",
        "# แปลงข้อมูล 'x' จาก 1 มิติ เป็น 2 มิติ\n",
        "# เตรียมข้อมูล 'xfit' สำหรับใช้ในการทดสอบ ให้มีค่าระหว่าง 0 - 25 จำนวน 1000 ข้อมูล\n",
        "# เตรียมข้อมูล 'yfit' เพื่อเก็บผลการทำนายที่ได้จาก 'xfit'\n",
        "# วาดกราฟด้วย scatter plot โดยใช้ข้อมูล 'x' และ 'y'\n",
        "# วาดเส้นของการทดสอบที่ได้จาก 'xfit' และ 'yfit'\n"
      ],
      "metadata": {
        "id": "5vKm8S-vPx-Z"
      },
      "execution_count": null,
      "outputs": []
    },
    {
      "cell_type": "code",
      "source": [
        "# ค่า R2 วัดว่าแบบจำลองทำนายได้ดีไหม?"
      ],
      "metadata": {
        "id": "EzoJjJC3U1f3"
      },
      "execution_count": null,
      "outputs": []
    },
    {
      "cell_type": "markdown",
      "source": [
        "## สร้างแบบจำลองโดยปรับ Degree = 3 ของสมการ"
      ],
      "metadata": {
        "id": "KaKbRCJ_DecY"
      }
    },
    {
      "cell_type": "code",
      "source": [
        "# สร้างแบบจำลองจาก Pipeline โดยแบบจำลองจะรับข้อมูลเป็น Polynomial มี Degree = 3\n",
        "# แปลงข้อมูล 'x' จาก 1 มิติ เป็น 2 มิติ\n",
        "# เตรียมข้อมูล 'xfit' สำหรับใช้ในการทดสอบ ให้มีค่าระหว่าง 0 - 25 จำนวน 1000 ข้อมูล\n",
        "# เตรียมข้อมูล 'yfit' เพื่อเก็บผลการทำนายที่ได้จาก 'xfit'\n",
        "# วาดกราฟด้วย scatter plot โดยใช้ข้อมูล 'x' และ 'y'\n",
        "# วาดเส้นของการทดสอบที่ได้จาก 'xfit' และ 'yfit'\n"
      ],
      "metadata": {
        "id": "yEvwzt0kQVgu"
      },
      "execution_count": null,
      "outputs": []
    },
    {
      "cell_type": "code",
      "source": [
        "# ค่า R2 วัดว่าแบบจำลองทำนายได้ดีไหม?"
      ],
      "metadata": {
        "id": "0YMYyJ_NU5wD"
      },
      "execution_count": null,
      "outputs": []
    },
    {
      "cell_type": "markdown",
      "source": [
        "## สร้างแบบจำลองโดยปรับ Degree = 5 ของสมการ"
      ],
      "metadata": {
        "id": "7mTOQuqWDkNg"
      }
    },
    {
      "cell_type": "code",
      "source": [
        "# สร้างแบบจำลองจาก Pipeline โดยแบบจำลองจะรับข้อมูลเป็น Polynomial มี Degree = 5\n",
        "# แปลงข้อมูล 'x' จาก 1 มิติ เป็น 2 มิติ\n",
        "# เตรียมข้อมูล 'xfit' สำหรับใช้ในการทดสอบ ให้มีค่าระหว่าง 0 - 25 จำนวน 1000 ข้อมูล\n",
        "# เตรียมข้อมูล 'yfit' เพื่อเก็บผลการทำนายที่ได้จาก 'xfit'\n",
        "# วาดกราฟด้วย scatter plot โดยใช้ข้อมูล 'x' และ 'y'\n",
        "# วาดเส้นของการทดสอบที่ได้จาก 'xfit' และ 'yfit'\n"
      ],
      "metadata": {
        "id": "NBD4tstPRBwR"
      },
      "execution_count": null,
      "outputs": []
    },
    {
      "cell_type": "code",
      "source": [
        "# ค่า R2 วัดว่าแบบจำลองทำนายได้ดีไหม?"
      ],
      "metadata": {
        "id": "5a_5JqEbU-FB"
      },
      "execution_count": null,
      "outputs": []
    },
    {
      "cell_type": "markdown",
      "source": [
        "## สร้างแบบจำลองโดยปรับ Degree = 10 ของสมการ"
      ],
      "metadata": {
        "id": "tqH15I7QDru0"
      }
    },
    {
      "cell_type": "code",
      "source": [
        "# สร้างแบบจำลองจาก Pipeline โดยแบบจำลองจะรับข้อมูลเป็น Polynomial มี Degree = 10\n",
        "# แปลงข้อมูล 'x' จาก 1 มิติ เป็น 2 มิติ\n",
        "# เตรียมข้อมูล 'xfit' สำหรับใช้ในการทดสอบ ให้มีค่าระหว่าง 0 - 25 จำนวน 1000 ข้อมูล\n",
        "# เตรียมข้อมูล 'yfit' เพื่อเก็บผลการทำนายที่ได้จาก 'xfit'\n",
        "# วาดกราฟด้วย scatter plot โดยใช้ข้อมูล 'x' และ 'y'\n",
        "# วาดเส้นของการทดสอบที่ได้จาก 'xfit' และ 'yfit'\n"
      ],
      "metadata": {
        "id": "FRWTr5BeRLyW"
      },
      "execution_count": null,
      "outputs": []
    },
    {
      "cell_type": "code",
      "source": [
        "# ค่า R2 วัดว่าแบบจำลองทำนายได้ดีไหม?"
      ],
      "metadata": {
        "colab": {
          "base_uri": "https://localhost:8080/"
        },
        "id": "M0B2HeBXVBA5",
        "outputId": "5a0fd359-5be5-477b-bde5-62792a6fa3c2"
      },
      "execution_count": null,
      "outputs": [
        {
          "output_type": "stream",
          "name": "stdout",
          "text": [
            "coefficient of determination: 0.9463263358778626\n"
          ]
        }
      ]
    },
    {
      "cell_type": "markdown",
      "source": [
        "## สร้างแบบจำลองโดยปรับ Degree = 12 ของสมการ"
      ],
      "metadata": {
        "id": "NjqwnmDsDxD3"
      }
    },
    {
      "cell_type": "code",
      "source": [
        "# สร้างแบบจำลองจาก Pipeline โดยแบบจำลองจะรับข้อมูลเป็น Polynomial มี Degree = 12\n",
        "# แปลงข้อมูล 'x' จาก 1 มิติ เป็น 2 มิติ\n",
        "# เตรียมข้อมูล 'xfit' สำหรับใช้ในการทดสอบ ให้มีค่าระหว่าง 0 - 25 จำนวน 1000 ข้อมูล\n",
        "# เตรียมข้อมูล 'yfit' เพื่อเก็บผลการทำนายที่ได้จาก 'xfit'\n",
        "# วาดกราฟด้วย scatter plot โดยใช้ข้อมูล 'x' และ 'y'\n",
        "# วาดเส้นของการทดสอบที่ได้จาก 'xfit' และ 'yfit'\n"
      ],
      "metadata": {
        "id": "Ewf6HK9ERwdp"
      },
      "execution_count": null,
      "outputs": []
    },
    {
      "cell_type": "code",
      "source": [
        "# ค่า R2 วัดว่าแบบจำลองทำนายได้ดีไหม?\n"
      ],
      "metadata": {
        "id": "dzuU0Wz9VEFX"
      },
      "execution_count": null,
      "outputs": []
    }
  ]
}